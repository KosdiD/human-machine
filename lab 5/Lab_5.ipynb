{
  "nbformat": 4,
  "nbformat_minor": 0,
  "metadata": {
    "colab": {
      "provenance": []
    },
    "kernelspec": {
      "name": "python3",
      "display_name": "Python 3"
    },
    "language_info": {
      "name": "python"
    }
  },
  "cells": [
    {
      "cell_type": "code",
      "execution_count": 1,
      "metadata": {
        "colab": {
          "base_uri": "https://localhost:8080/"
        },
        "id": "pJDeqxL3jBS8",
        "outputId": "a71d749c-8ed0-4044-ff89-28229a6ffda4"
      },
      "outputs": [
        {
          "output_type": "stream",
          "name": "stdout",
          "text": [
            "Завантаження корпусу юридичних текстів... Це може зайняти кілька хвилин.\n",
            "legal_corpus.zip    100%[===================>]   1.34M  --.-KB/s    in 0.06s   \n",
            "\n",
            "Розархівація файлу... Це також може зайняти час.\n",
            "\n",
            "Архів успішно розархівовано до папки 'legal_corpus'.\n"
          ]
        }
      ],
      "source": [
        "# Клітинка 1: Завантаження та розархівація даних\n",
        "print(\"Завантаження корпусу юридичних текстів... Це може зайняти кілька хвилин.\")\n",
        "# Використовуємо wget для завантаження файлу\n",
        "!wget -q --show-progress https://static.case.law/ark/14.zip -O legal_corpus.zip\n",
        "\n",
        "print(\"\\nРозархівація файлу... Це також може зайняти час.\")\n",
        "# Розархівуємо завантажений файл\n",
        "!unzip -q legal_corpus.zip -d legal_corpus\n",
        "\n",
        "print(\"\\nАрхів успішно розархівовано до папки 'legal_corpus'.\")"
      ]
    },
    {
      "cell_type": "code",
      "source": [
        "import os\n",
        "import json\n",
        "\n",
        "# Шлях до папки з вашими JSON файлами\n",
        "json_folder_path = 'legal_corpus/json'\n",
        "\n",
        "# Знаходимо перший-ліпший .json файл у папці\n",
        "try:\n",
        "    first_file_name = [f for f in os.listdir(json_folder_path) if f.endswith('.json')][0]\n",
        "    file_to_inspect = os.path.join(json_folder_path, first_file_name)\n",
        "\n",
        "    print(f\"--- Аналізуємо структуру файлу: {file_to_inspect} ---\")\n",
        "\n",
        "    with open(file_to_inspect, 'r', encoding='utf-8') as f:\n",
        "        data = json.load(f)\n",
        "        # Виводимо структуру JSON у читабельному вигляді\n",
        "        print(json.dumps(data, indent=4))\n",
        "\n",
        "except (FileNotFoundError, IndexError):\n",
        "    print(f\"Не вдалося знайти жодного .json файлу в папці {json_folder_path}\")"
      ],
      "metadata": {
        "colab": {
          "base_uri": "https://localhost:8080/"
        },
        "id": "5Y3I4gLTjDro",
        "outputId": "54d880e5-2e12-449b-a491-7e1ee32cd6c6"
      },
      "execution_count": 8,
      "outputs": [
        {
          "output_type": "stream",
          "name": "stdout",
          "text": [
            "--- Аналізуємо структуру файлу: legal_corpus/json/0421-01.json ---\n",
            "{\n",
            "    \"id\": 1862637,\n",
            "    \"name\": \"Brown vs. Collins, ad.\",\n",
            "    \"name_abbreviation\": \"Brown v. Collins\",\n",
            "    \"decision_date\": \"1854-01\",\n",
            "    \"docket_number\": \"\",\n",
            "    \"first_page\": \"421\",\n",
            "    \"last_page\": \"422\",\n",
            "    \"citations\": [\n",
            "        {\n",
            "            \"type\": \"official\",\n",
            "            \"cite\": \"14 Ark. 421\"\n",
            "        }\n",
            "    ],\n",
            "    \"court\": {\n",
            "        \"name_abbreviation\": \"Ark.\",\n",
            "        \"id\": 8808,\n",
            "        \"name\": \"Arkansas Supreme Court\"\n",
            "    },\n",
            "    \"jurisdiction\": {\n",
            "        \"id\": 34,\n",
            "        \"name_long\": \"Arkansas\",\n",
            "        \"name\": \"Ark.\"\n",
            "    },\n",
            "    \"cites_to\": [],\n",
            "    \"analysis\": {\n",
            "        \"cardinality\": 177,\n",
            "        \"char_count\": 2286,\n",
            "        \"ocr_confidence\": 0.548,\n",
            "        \"pagerank\": {\n",
            "            \"raw\": 1.1619320283896213e-07,\n",
            "            \"percentile\": 0.5842392741816221\n",
            "        },\n",
            "        \"sha256\": \"62c6942070cadfc032abe6a2ecc17c8d7d226ea04562d4254ea0e026357c4767\",\n",
            "        \"simhash\": \"1:82de0a6e5e16b2f8\",\n",
            "        \"word_count\": 412\n",
            "    },\n",
            "    \"last_updated\": \"2023-07-14T15:22:52.336774+00:00\",\n",
            "    \"provenance\": {\n",
            "        \"date_added\": \"2019-08-29\",\n",
            "        \"source\": \"Harvard\",\n",
            "        \"batch\": \"2018\"\n",
            "    },\n",
            "    \"casebody\": {\n",
            "        \"judges\": [\n",
            "            \"Watkins, C. J., not sitting.\"\n",
            "        ],\n",
            "        \"parties\": [\n",
            "            \"Brown vs. Collins, ad.\"\n",
            "        ],\n",
            "        \"opinions\": [\n",
            "            {\n",
            "                \"text\": \"Mr. Justice Scott\\ndelivered the opinion of the Court.\\nThis is an application for an appeal under the provisions of our statute, (Dig. ch. 28, p. 244, and 135), and the question presented, is whether or not, under the provision of the 21st section of our statute of dower; (Dig. ch. 59, p. 448), when the husband dies, leaving a widow and no children, she takes one-half of the real estate, and one-half of the slaves of which he died seized, absolutely and in her own right, or only a dower estate in them, for the fall term of her natural life; and vve think it perfectly clear, when this section is considered in connexion with the other provisions of the dower law, that she takes only a dower interest and estate for life.\\nIt is manifest that if she takes the slaves, absolutely and in her own right, she takes the real estate in the same way, and this would be in conflict with the policy of our statute of descents, of preserving the inheritance in the blood of the first purchaser, subject to dower in the common law sense of that term; as to the duration of the estate. It is only when there are no kindred, either paternal or maternal, capable of inheriting, and next before it escheats, that real estate descends from the husband to the wife, or vice versa, (Dig. ch. 56, sec. 7). It would be easy to show, by enlarging upon this view of the subject, that if the widow could take one-half of the land absolutely, and not a doWer -estate in it for life only, the Legislature had really achieved much less than half they evidently designed by the system of descents fthey set on foot.\\nThe application is denied.\\nWatkins, C. J., not sitting.\",\n",
            "                \"type\": \"majority\",\n",
            "                \"author\": \"Mr. Justice Scott\"\n",
            "            }\n",
            "        ],\n",
            "        \"attorneys\": [\n",
            "            \"Curran & Gallagi-ier, for the petitioner.\"\n",
            "        ],\n",
            "        \"corrections\": \"\",\n",
            "        \"head_matter\": \"Brown vs. Collins, ad.\\nUpon the construction of tlie statute concerning dower, where a husband, dies, leaving a widow and no children, the widow is entitled to be endowed of one-half of the real estate, and also one-half of the slaves of which the husband died seized, during her natural life only, and not in-fee or absolutely in her own right.\\nThe term dower has a common law meaning, importing an estate for life, not to be controlled without a contrary intention clearly manifested by the statute.\\nPetition for an appeal from the decree of the Circuit Court of Pulaski county in Chancery. \\u25a0\\nCurran & Gallagi-ier, for the petitioner.\"\n",
            "    },\n",
            "    \"file_name\": \"0421-01\",\n",
            "    \"first_page_order\": 421,\n",
            "    \"last_page_order\": 422\n",
            "}\n"
          ]
        }
      ]
    },
    {
      "cell_type": "code",
      "source": [
        "# Клітинка 2 (Виправлена з урахуванням правильної структури JSON)\n",
        "import os\n",
        "import json\n",
        "import re\n",
        "from tqdm import tqdm\n",
        "\n",
        "# Правильний шлях до папки, який ви підтвердили\n",
        "corpus_path = 'legal_corpus/json'\n",
        "output_corpus_file = 'corpus.txt'\n",
        "\n",
        "file_count = 0\n",
        "print(f\"Починаємо обробку JSON файлів з '{corpus_path}'...\")\n",
        "\n",
        "with open(output_corpus_file, 'w', encoding='utf-8') as outfile:\n",
        "    for root, dirs, files in os.walk(corpus_path):\n",
        "        json_files = [f for f in files if f.endswith('.json')]\n",
        "        for filename in tqdm(json_files, desc=f'Обробка папки {os.path.basename(root)}'):\n",
        "            filepath = os.path.join(root, filename)\n",
        "            try:\n",
        "                with open(filepath, 'r', encoding='utf-8') as f:\n",
        "                    data = json.load(f)\n",
        "\n",
        "                    # --- ВИПРАВЛЕНА ЛОГІКА ВИДОБУВАННЯ ТЕКСТУ ---\n",
        "                    # Ми прибрали зайвий ключ 'data' і тепер шлях є правильним\n",
        "                    case_text = data.get('casebody', {}).get('opinions', [{}])[0].get('text', '')\n",
        "\n",
        "                    if case_text:\n",
        "                        cleaned_text = re.sub(r'[^a-zA-Z\\s]', '', case_text).lower()\n",
        "                        outfile.write(cleaned_text + '\\n')\n",
        "                        file_count += 1\n",
        "            except Exception as e:\n",
        "                # Ігноруємо файли з будь-якими помилками\n",
        "                # print(f\"Помилка при обробці файлу {filepath}: {e}\") # Розкоментуйте для детальної діагностики\n",
        "                continue\n",
        "\n",
        "print(f\"\\nОбробку завершено. Знайдено та оброблено {file_count} файлів.\")\n",
        "print(f\"Весь текст збережено у файл '{output_corpus_file}'.\")"
      ],
      "metadata": {
        "colab": {
          "base_uri": "https://localhost:8080/"
        },
        "id": "k0bJg89-kMXL",
        "outputId": "f11932d2-22db-4d6d-e44a-02791486905f"
      },
      "execution_count": 9,
      "outputs": [
        {
          "output_type": "stream",
          "name": "stdout",
          "text": [
            "Починаємо обробку JSON файлів з 'legal_corpus/json'...\n"
          ]
        },
        {
          "output_type": "stream",
          "name": "stderr",
          "text": [
            "Обробка папки json: 100%|██████████| 129/129 [00:00<00:00, 2538.60it/s]"
          ]
        },
        {
          "output_type": "stream",
          "name": "stdout",
          "text": [
            "\n",
            "Обробку завершено. Знайдено та оброблено 127 файлів.\n",
            "Весь текст збережено у файл 'corpus.txt'.\n"
          ]
        },
        {
          "output_type": "stream",
          "name": "stderr",
          "text": [
            "\n"
          ]
        }
      ]
    },
    {
      "cell_type": "code",
      "source": [
        "# Клітинка 3: Обробка даних та створення словників\n",
        "from collections import Counter\n",
        "import numpy as np\n",
        "import pandas as pd\n",
        "\n",
        "def process_data(file_name):\n",
        "    \"\"\"\n",
        "    Зчитує файл та повертає список слів у нижньому регістрі.\n",
        "    \"\"\"\n",
        "    with open(file_name, \"r\", encoding='utf-8') as f:\n",
        "        # Текст вже очищений та в нижньому регістрі, тому просто читаємо слова\n",
        "        text = f.read()\n",
        "        words = re.findall(r'\\w+', text)\n",
        "    return words\n",
        "\n",
        "def get_count(word_l):\n",
        "    \"\"\"\n",
        "    Створює словник частотності слів.\n",
        "    \"\"\"\n",
        "    # Використовуємо Counter для ефективного підрахунку\n",
        "    word_count_dict = Counter(word_l)\n",
        "    return word_count_dict\n",
        "\n",
        "def get_probs(word_count_dict):\n",
        "    \"\"\"\n",
        "    Обчислює ймовірності слів на основі словника частотності[cite: 13].\n",
        "    \"\"\"\n",
        "    probs = {}\n",
        "    total_count = sum(word_count_dict.values())\n",
        "    for word, count in word_count_dict.items():\n",
        "        probs[word] = count / total_count\n",
        "    return probs\n",
        "\n",
        "# Запускаємо процеси\n",
        "print(\"Обробка корпусу для створення словника...\")\n",
        "word_l = process_data(output_corpus_file)\n",
        "word_count_dict = get_count(word_l)\n",
        "probs = get_probs(word_count_dict)\n",
        "# Створюємо множину унікальних слів для швидкого пошуку\n",
        "vocab = set(word_count_dict.keys())\n",
        "print(\"Словники успішно створено.\")\n",
        "print(f\"Розмір словника (кількість унікальних слів): {len(vocab)}\")\n",
        "print(f\"Приклад ймовірності для слова 'court': {probs.get('court', 'Слово відсутнє')}\")"
      ],
      "metadata": {
        "colab": {
          "base_uri": "https://localhost:8080/"
        },
        "id": "RwWRejKSjFD3",
        "outputId": "74a37412-9948-4d43-b947-3883e79fb2fc"
      },
      "execution_count": 10,
      "outputs": [
        {
          "output_type": "stream",
          "name": "stdout",
          "text": [
            "Обробка корпусу для створення словника...\n",
            "Словники успішно створено.\n",
            "Розмір словника (кількість унікальних слів): 8695\n",
            "Приклад ймовірності для слова 'court': 0.007085204889136512\n"
          ]
        }
      ]
    },
    {
      "cell_type": "code",
      "source": [
        "# Клітинка 4: Функції для операцій редагування\n",
        "def delete_letter(word):\n",
        "    \"\"\"\n",
        "    Видаляє одну літеру зі слова та повертає список усіх можливих варіантів[cite: 14].\n",
        "    \"\"\"\n",
        "    split_l = [(word[:i], word[i:]) for i in range(len(word) + 1)]\n",
        "    return [L + R[1:] for L, R in split_l if R]\n",
        "\n",
        "def switch_letter(word):\n",
        "    \"\"\"\n",
        "    Міняє місцями дві сусідні літери та повертає всі можливі варіанти[cite: 15].\n",
        "    \"\"\"\n",
        "    split_l = [(word[:i], word[i:]) for i in range(len(word))]\n",
        "    return [L + R[1] + R[0] + R[2:] for L, R in split_l if len(R) > 1]\n",
        "\n",
        "def replace_letter(word):\n",
        "    \"\"\"\n",
        "    Замінює одну літеру іншою та повертає всі можливі варіанти[cite: 16].\n",
        "    \"\"\"\n",
        "    letters = 'abcdefghijklmnopqrstuvwxyz'\n",
        "    split_l = [(word[:i], word[i:]) for i in range(len(word))]\n",
        "    return [L + c + R[1:] for L, R in split_l if R for c in letters]\n",
        "\n",
        "def insert_letter(word):\n",
        "    \"\"\"\n",
        "    Вставляє одну літеру та повертає всі можливі варіанти[cite: 17].\n",
        "    \"\"\"\n",
        "    letters = 'abcdefghijklmnopqrstuvwxyz'\n",
        "    split_l = [(word[:i], word[i:]) for i in range(len(word) + 1)]\n",
        "    return [L + c + R for L, R in split_l for c in letters]\n",
        "\n",
        "def edit_one_letter(word, allow_switches=True):\n",
        "    \"\"\"\n",
        "    Повертає набір слів, які знаходяться на відстані одного редагування від вхідного слова[cite: 18].\n",
        "    \"\"\"\n",
        "    edit_set = set(delete_letter(word))\n",
        "    edit_set.update(replace_letter(word))\n",
        "    edit_set.update(insert_letter(word))\n",
        "    if allow_switches:\n",
        "        edit_set.update(switch_letter(word))\n",
        "    return edit_set\n",
        "\n",
        "def edit_two_letters(word, allow_switches=True):\n",
        "    \"\"\"\n",
        "    Повертає набір слів, які знаходяться на відстані двох редагувань від вхідного слова[cite: 19].\n",
        "    \"\"\"\n",
        "    edit_set = set()\n",
        "    for w in edit_one_letter(word, allow_switches):\n",
        "        edit_set.update(edit_one_letter(w, allow_switches))\n",
        "    return edit_set\n",
        "\n",
        "print(\"Функції редагування гото-ві до використання.\")\n",
        "# Тестовий виклик\n",
        "print(f\"Приклад редагувань для слова 'lawer': {edit_one_letter('lawer')}\")"
      ],
      "metadata": {
        "colab": {
          "base_uri": "https://localhost:8080/"
        },
        "id": "zFd-0HdyjHSi",
        "outputId": "6fe80eae-d9e9-4820-fca2-a5947a83f83d"
      },
      "execution_count": 12,
      "outputs": [
        {
          "output_type": "stream",
          "name": "stdout",
          "text": [
            "Функції редагування гото-ві до використання.\n",
            "Приклад редагувань для слова 'lawer': {'laweq', 'lawey', 'loawer', 'lauer', 'nawer', 'lawerc', 'lawxer', 'laweri', 'latwer', 'rlawer', 'lawuer', 'iawer', 'lawenr', 'lawel', 'lawerr', 'hlawer', 'lawver', 'wlawer', 'glawer', 'lawwer', 'laxwer', 'lawaer', 'lawehr', 'ldwer', 'lawesr', 'lager', 'mlawer', 'lfawer', 'lader', 'lawser', 'lawejr', 'lawfer', 'laper', 'lcwer', 'lawej', 'wawer', 'laweg', 'lawnr', 'cawer', 'laweru', 'laxer', 'olawer', 'lajwer', 'lauwer', 'lawekr', 'aawer', 'lawur', 'luawer', 'lnwer', 'dlawer', 'ljawer', 'lkawer', 'ltawer', 'lawyr', 'lawter', 'lawefr', 'laber', 'lhawer', 'jlawer', 'fawer', 'lawer', 'lhwer', 'laer', 'lawxr', 'lgwer', 'slawer', 'lawevr', 'lswer', 'mawer', 'lafwer', 'lawezr', 'lawerh', 'lamer', 'lawdr', 'lawea', 'laweor', 'lwer', 'qlawer', 'lqawer', 'lwaer', 'laweyr', 'lawlr', 'lbawer', 'lawzer', 'lwwer', 'laswer', 'labwer', 'lafer', 'lawemr', 'lzwer', 'laier', 'lcawer', 'lawee', 'lawcr', 'lakwer', 'lawero', 'clawer', 'lawez', 'zlawer', 'lkwer', 'lawher', 'laqwer', 'lawerk', 'lawerf', 'lawert', 'lawec', 'luwer', 'lawera', 'lawhr', 'lawerl', 'lawes', 'ulawer', 'lapwer', 'lawre', 'lawed', 'lsawer', 'lawner', 'klawer', 'lrawer', 'lacwer', 'lpwer', 'laser', 'later', 'lawere', 'laweqr', 'layer', 'laawer', 'tlawer', 'xawer', 'sawer', 'lawgr', 'lawerw', 'lewer', 'lawet', 'alawer', 'lahwer', 'laiwer', 'laewr', 'lawelr', 'xlawer', 'lawker', 'laler', 'hawer', 'lawers', 'ilawer', 'laeer', 'lawqr', 'lamwer', 'rawer', 'lawjer', 'lawebr', 'lawe', 'leawer', 'lawerm', 'nlawer', 'lawbr', 'ylawer', 'jawer', 'laner', 'larer', 'lavwer', 'lawerp', 'alwer', 'lawef', 'bawer', 'lawber', 'plawer', 'lawvr', 'laywer', 'lawrer', 'lvwer', 'lawtr', 'lawew', 'lmwer', 'lacer', 'vawer', 'lawkr', 'lxawer', 'yawer', 'lqwer', 'laher', 'laker', 'lxwer', 'awer', 'gawer', 'flawer', 'lpawer', 'lawear', 'lawper', 'lawep', 'laewer', 'lawepr', 'uawer', 'lawewr', 'lawexr', 'laweir', 'lawler', 'lawev', 'llawer', 'lawerz', 'ltwer', 'vlawer', 'lower', 'lawery', 'laweur', 'lgawer', 'lanwer', 'lawzr', 'lawex', 'laweb', 'lawqer', 'lawem', 'lawerj', 'liwer', 'lrwer', 'kawer', 'lawger', 'lawar', 'lazwer', 'lawoer', 'laweu', 'lawedr', 'lawerv', 'lagwer', 'ljwer', 'lmawer', 'lawmer', 'tawer', 'lajer', 'pawer', 'laower', 'lawr', 'qawer', 'lyawer', 'laweh', 'lawsr', 'lawjr', 'laoer', 'ldawer', 'lawpr', 'lawerd', 'liawer', 'lawder', 'llwer', 'lvawer', 'lawier', 'lawecr', 'lawetr', 'laqer', 'lawfr', 'blawer', 'lawern', 'lawerg', 'lawerx', 'lawen', 'lawek', 'dawer', 'eawer', 'lbwer', 'lfwer', 'lawor', 'lawrr', 'laweo', 'lazer', 'lawwr', 'elawer', 'laweer', 'zawer', 'lnawer', 'ladwer', 'larwer', 'lawerb', 'lalwer', 'lawyer', 'lawir', 'lzawer', 'lywer', 'laver', 'laaer', 'lwawer', 'oawer', 'lawcer', 'lawerq', 'lawmr', 'lawegr', 'lawei'}\n"
          ]
        }
      ]
    },
    {
      "cell_type": "code",
      "source": [
        "# Клітинка 5: Основна функція автокорекції\n",
        "def get_corrections(word, probs, vocab, n=3):\n",
        "    \"\"\"\n",
        "    Повертає n найбільш ймовірних корекцій для введеного слова[cite: 20].\n",
        "    \"\"\"\n",
        "    # Якщо слово вже правильне, повертаємо його з ймовірністю 1.0\n",
        "    if word in vocab:\n",
        "        return [(word, probs.get(word, 0))]\n",
        "\n",
        "    # Кандидати на відстані 1\n",
        "    suggestions = edit_one_letter(word)\n",
        "    known_suggestions = suggestions.intersection(vocab)\n",
        "\n",
        "    # Якщо є відомі кандидати на відстані 1, використовуємо їх\n",
        "    if known_suggestions:\n",
        "        # Сортуємо кандидатів за їхньою ймовірністю в корпусі\n",
        "        best_words = sorted([(s, probs[s]) for s in known_suggestions], key=lambda x: x[1], reverse=True)\n",
        "        return best_words[:n]\n",
        "\n",
        "    # Кандидати на відстані 2\n",
        "    suggestions_two = edit_two_letters(word)\n",
        "    known_suggestions_two = suggestions_two.intersection(vocab)\n",
        "    if known_suggestions_two:\n",
        "        best_words = sorted([(s, probs[s]) for s in known_suggestions_two], key=lambda x: x[1], reverse=True)\n",
        "        return best_words[:n]\n",
        "\n",
        "    # Якщо нічого не знайдено, повертаємо оригінальне слово\n",
        "    return [(word, 0.0)]\n",
        "\n",
        "print(\"Функція автокорекції готова.\")\n",
        "# Тестування на прикладі\n",
        "test_word = 'jurisdicion'\n",
        "corrections = get_corrections(test_word, probs, vocab)\n",
        "print(f\"\\nПропозиції для слова '{test_word}':\")\n",
        "for i, (correction, prob) in enumerate(corrections):\n",
        "    print(f\" {i+1}. '{correction}' (ймовірність: {prob:.8f})\")"
      ],
      "metadata": {
        "colab": {
          "base_uri": "https://localhost:8080/"
        },
        "id": "2iBB_6PYkRAq",
        "outputId": "fe65de8e-1776-402e-937b-62bb97c5a810"
      },
      "execution_count": 13,
      "outputs": [
        {
          "output_type": "stream",
          "name": "stdout",
          "text": [
            "Функція автокорекції готова.\n",
            "\n",
            "Пропозиції для слова 'jurisdicion':\n",
            " 1. 'jurisdiction' (ймовірність: 0.00076917)\n"
          ]
        }
      ]
    },
    {
      "cell_type": "code",
      "source": [
        "# Клітинка 6: Функція мінімальної відстані редагування\n",
        "def min_edit_distance(source, target, ins_cost=1, del_cost=1, rep_cost=2):\n",
        "    \"\"\"\n",
        "    Обчислює мінімальну відстань редагування між двома рядками[cite: 21].\n",
        "    \"\"\"\n",
        "    m = len(source)\n",
        "    n = len(target)\n",
        "    D = np.zeros((m + 1, n + 1), dtype=int)\n",
        "\n",
        "    # Ініціалізація першого рядка та стовпця\n",
        "    for row in range(m + 1):\n",
        "        D[row, 0] = row * del_cost\n",
        "    for col in range(n + 1):\n",
        "        D[0, col] = col * ins_cost\n",
        "\n",
        "    # Заповнення матриці за алгоритмом динамічного програмування [cite: 11]\n",
        "    for row in range(1, m + 1):\n",
        "        for col in range(1, n + 1):\n",
        "            r_cost = rep_cost if source[row - 1] != target[col - 1] else 0\n",
        "            D[row, col] = min(\n",
        "                D[row - 1, col] + del_cost,\n",
        "                D[row, col - 1] + ins_cost,\n",
        "                D[row - 1, col - 1] + r_cost\n",
        "            )\n",
        "\n",
        "    return D, D[m, n]\n",
        "\n",
        "print(\"Функція мінімальної відстані редагування готова.\")\n",
        "\n",
        "# Тестування\n",
        "source, target = 'appeal', 'apply'\n",
        "distance_matrix, med = min_edit_distance(source, target)\n",
        "print(f\"\\nМінімальна відстань редагування між '{source}' та '{target}': {med}\")\n",
        "print(\"Матриця відстаней:\")\n",
        "print(pd.DataFrame(distance_matrix, index=['#'] + list(source), columns=['#'] + list(target)))"
      ],
      "metadata": {
        "colab": {
          "base_uri": "https://localhost:8080/"
        },
        "id": "AdYPvmvkkV0o",
        "outputId": "74d5dee8-37a9-419e-8add-bbc36b9371ce"
      },
      "execution_count": 14,
      "outputs": [
        {
          "output_type": "stream",
          "name": "stdout",
          "text": [
            "Функція мінімальної відстані редагування готова.\n",
            "\n",
            "Мінімальна відстань редагування між 'appeal' та 'apply': 3\n",
            "Матриця відстаней:\n",
            "   #  a  p  p  l  y\n",
            "#  0  1  2  3  4  5\n",
            "a  1  0  1  2  3  4\n",
            "p  2  1  0  1  2  3\n",
            "p  3  2  1  0  1  2\n",
            "e  4  3  2  1  2  3\n",
            "a  5  4  3  2  3  4\n",
            "l  6  5  4  3  2  3\n"
          ]
        }
      ]
    },
    {
      "cell_type": "code",
      "source": [
        "# Клітинка 7: Оцінка точності\n",
        "import time\n",
        "\n",
        "# Створюємо простий тестовий набір (слово з помилкою, правильне слово)\n",
        "test_set = {\n",
        "    'aproved': 'approved',\n",
        "    'judgement': 'judgement',\n",
        "    'constitucion': 'constitution',\n",
        "    'evidance': 'evidence',\n",
        "    'atorney': 'attorney',\n",
        "    'defendantt': 'defendant',\n",
        "    'plaintif': 'plaintiff',\n",
        "    'witnes': 'witness',\n",
        "    'legistation': 'legislation',\n",
        "    'magistrat': 'magistrate'\n",
        "}\n",
        "\n",
        "correct_predictions = 0\n",
        "total_words = len(test_set)\n",
        "total_time = 0\n",
        "\n",
        "print(\"--- Починаємо оцінку точності системи ---\")\n",
        "\n",
        "for wrong_word, correct_word in test_set.items():\n",
        "    start_time = time.time()\n",
        "    # Отримуємо найкращу пропозицію\n",
        "    predictions = get_corrections(wrong_word, probs, vocab, n=1)\n",
        "    end_time = time.time()\n",
        "\n",
        "    total_time += (end_time - start_time)\n",
        "\n",
        "    # Перевіряємо, чи є prediction і чи він правильний\n",
        "    if predictions and predictions[0][0] == correct_word:\n",
        "        correct_predictions += 1\n",
        "        print(f\"✅ Слово '{wrong_word}' виправлено правильно на '{predictions[0][0]}'\")\n",
        "    else:\n",
        "        predicted_word = predictions[0][0] if predictions else \"N/A\"\n",
        "        print(f\"❌ Слово '{wrong_word}' виправлено НЕПРАВИЛЬНО на '{predicted_word}', очікувалося '{correct_word}'\")\n",
        "\n",
        "# Розрахунок та вивід результатів\n",
        "accuracy = (correct_predictions / total_words) * 100\n",
        "avg_time = total_time / total_words\n",
        "\n",
        "print(\"\\n--- Результати оцінки ---\")\n",
        "print(f\"Точність системи: {accuracy:.2f}% ({correct_predictions} з {total_words} слів виправлено правильно)\")\n",
        "print(f\"Середній час на виправлення одного слова: {avg_time:.6f} секунд\")"
      ],
      "metadata": {
        "colab": {
          "base_uri": "https://localhost:8080/"
        },
        "id": "wQf26XqUkY9o",
        "outputId": "22efdd75-90b2-43b2-f5cd-9a449ffbed5e"
      },
      "execution_count": 16,
      "outputs": [
        {
          "output_type": "stream",
          "name": "stdout",
          "text": [
            "--- Починаємо оцінку точності системи ---\n",
            "❌ Слово 'aproved' виправлено НЕПРАВИЛЬНО на 'proved', очікувалося 'approved'\n",
            "✅ Слово 'judgement' виправлено правильно на 'judgement'\n",
            "✅ Слово 'constitucion' виправлено правильно на 'constitution'\n",
            "✅ Слово 'evidance' виправлено правильно на 'evidence'\n",
            "✅ Слово 'atorney' виправлено правильно на 'attorney'\n",
            "✅ Слово 'defendantt' виправлено правильно на 'defendant'\n",
            "✅ Слово 'plaintif' виправлено правильно на 'plaintiff'\n",
            "✅ Слово 'witnes' виправлено правильно на 'witness'\n",
            "✅ Слово 'legistation' виправлено правильно на 'legislation'\n",
            "✅ Слово 'magistrat' виправлено правильно на 'magistrate'\n",
            "\n",
            "--- Результати оцінки ---\n",
            "Точність системи: 90.00% (9 з 10 слів виправлено правильно)\n",
            "Середній час на виправлення одного слова: 0.000265 секунд\n"
          ]
        }
      ]
    },
    {
      "cell_type": "code",
      "source": [],
      "metadata": {
        "id": "HMhAs_k8kbJ7"
      },
      "execution_count": null,
      "outputs": []
    }
  ]
}
