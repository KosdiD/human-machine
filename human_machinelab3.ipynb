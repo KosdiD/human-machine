{
  "nbformat": 4,
  "nbformat_minor": 0,
  "metadata": {
    "colab": {
      "provenance": []
    },
    "kernelspec": {
      "name": "python3",
      "display_name": "Python 3"
    },
    "language_info": {
      "name": "python"
    }
  },
  "cells": [
    {
      "cell_type": "code",
      "execution_count": 4,
      "metadata": {
        "colab": {
          "base_uri": "https://localhost:8080/"
        },
        "id": "trbP0IuQSwKT",
        "outputId": "d7b3ba28-911a-4139-d48e-8fe8fd7c6aaa"
      },
      "outputs": [
        {
          "output_type": "stream",
          "name": "stdout",
          "text": [
            "--2025-06-25 14:10:36--  https://lang.org.ua/static/downloads/models/fiction.cased.tokenized.word2vec.300d.bz2\n",
            "Resolving lang.org.ua (lang.org.ua)... 65.21.91.242\n",
            "Connecting to lang.org.ua (lang.org.ua)|65.21.91.242|:443... connected.\n",
            "HTTP request sent, awaiting response... 200 OK\n",
            "Length: 102666113 (98M) [application/octet-stream]\n",
            "Saving to: ‘fiction.cased.tokenized.word2vec.300d.bz2’\n",
            "\n",
            "fiction.cased.token 100%[===================>]  97.91M  26.0MB/s    in 3.8s    \n",
            "\n",
            "2025-06-25 14:10:41 (26.0 MB/s) - ‘fiction.cased.tokenized.word2vec.300d.bz2’ saved [102666113/102666113]\n",
            "\n"
          ]
        }
      ],
      "source": [
        "# Команди для завантаження та розпакування нової моделі (98 МБ)\n",
        "# Якщо ви працюєте локально, виконайте ці команди у вашому терміналі\n",
        "!wget https://lang.org.ua/static/downloads/models/fiction.cased.tokenized.word2vec.300d.bz2\n"
      ]
    },
    {
      "cell_type": "code",
      "source": [
        "!bzip2 -dk /content/fiction.cased.tokenized.word2vec.300d.bz2"
      ],
      "metadata": {
        "id": "wXiaQJxBZzYv"
      },
      "execution_count": 5,
      "outputs": []
    },
    {
      "cell_type": "code",
      "source": [
        "!pip install pymorphy2-dicts-uk"
      ],
      "metadata": {
        "colab": {
          "base_uri": "https://localhost:8080/"
        },
        "id": "v33ETzSgcide",
        "outputId": "2dd263bc-a1e9-4529-fc4c-cb05d7968bf5"
      },
      "execution_count": 14,
      "outputs": [
        {
          "output_type": "stream",
          "name": "stdout",
          "text": [
            "Collecting pymorphy2-dicts-uk\n",
            "  Downloading pymorphy2_dicts_uk-2.4.1.1.1460299261-py2.py3-none-any.whl.metadata (2.1 kB)\n",
            "Downloading pymorphy2_dicts_uk-2.4.1.1.1460299261-py2.py3-none-any.whl (5.0 MB)\n",
            "\u001b[?25l   \u001b[90m━━━━━━━━━━━━━━━━━━━━━━━━━━━━━━━━━━━━━━━━\u001b[0m \u001b[32m0.0/5.0 MB\u001b[0m \u001b[31m?\u001b[0m eta \u001b[36m-:--:--\u001b[0m\r\u001b[2K   \u001b[91m━━━━━━━━━━━━━━━━━━━━━━━━━━\u001b[0m\u001b[91m╸\u001b[0m\u001b[90m━━━━━━━━━━━━━\u001b[0m \u001b[32m3.3/5.0 MB\u001b[0m \u001b[31m99.8 MB/s\u001b[0m eta \u001b[36m0:00:01\u001b[0m\r\u001b[2K   \u001b[90m━━━━━━━━━━━━━━━━━━━━━━━━━━━━━━━━━━━━━━━━\u001b[0m \u001b[32m5.0/5.0 MB\u001b[0m \u001b[31m75.5 MB/s\u001b[0m eta \u001b[36m0:00:00\u001b[0m\n",
            "\u001b[?25hInstalling collected packages: pymorphy2-dicts-uk\n",
            "Successfully installed pymorphy2-dicts-uk-2.4.1.1.1460299261\n"
          ]
        }
      ]
    },
    {
      "cell_type": "code",
      "source": [
        "!pip install --upgrade pymorphy2 pymorphy2-dicts-uk"
      ],
      "metadata": {
        "colab": {
          "base_uri": "https://localhost:8080/"
        },
        "id": "J0wQYR-ifaCI",
        "outputId": "44b48320-90f2-4b9c-dc48-75a17389262f"
      },
      "execution_count": 16,
      "outputs": [
        {
          "output_type": "stream",
          "name": "stdout",
          "text": [
            "Requirement already satisfied: pymorphy2 in /usr/local/lib/python3.11/dist-packages (0.9.1)\n",
            "Requirement already satisfied: pymorphy2-dicts-uk in /usr/local/lib/python3.11/dist-packages (2.4.1.1.1460299261)\n",
            "Requirement already satisfied: dawg-python>=0.7.1 in /usr/local/lib/python3.11/dist-packages (from pymorphy2) (0.7.2)\n",
            "Requirement already satisfied: pymorphy2-dicts-ru<3.0,>=2.4 in /usr/local/lib/python3.11/dist-packages (from pymorphy2) (2.4.417127.4579844)\n",
            "Requirement already satisfied: docopt>=0.6 in /usr/local/lib/python3.11/dist-packages (from pymorphy2) (0.6.2)\n"
          ]
        }
      ]
    },
    {
      "cell_type": "code",
      "source": [
        "# --- БЛОК ПОВНОГО НАЛАШТУВАННЯ (з використанням pymorphy3) ---\n",
        "\n",
        "# 1. Встановлюємо сучасну бібліотеку та її словники\n",
        "print(\"Крок 1: Встановлення pymorphy3 та словників...\")\n",
        "!pip install pymorphy3 pymorphy3-dicts-uk\n",
        "\n",
        "# 2. Імпортуємо все необхідне\n",
        "import pandas as pd\n",
        "from gensim.models import KeyedVectors\n",
        "import pymorphy3  # <--- Змінено імпорт\n",
        "import os\n",
        "\n",
        "# 3. Ініціалізуємо лематизатор\n",
        "print(\"\\nКрок 2: Ініціалізація лематизатора...\")\n",
        "try:\n",
        "    # <--- Використовуємо pymorphy3\n",
        "    morph = pymorphy3.MorphAnalyzer(lang='uk')\n",
        "    print(\"MorphAnalyzer (pymorphy3) успішно створено.\")\n",
        "except Exception as e:\n",
        "    print(f\"Помилка при ініціалізації MorphAnalyzer: {e}\")\n",
        "    morph = None\n",
        "\n",
        "# 4. Завантажуємо датасет\n",
        "print(\"\\nКрок 3: Завантаження датасету столиць...\")\n",
        "url_capitals = \"https://raw.githubusercontent.com/lang-uk/vecs/refs/heads/master/test/test_vocabulary.txt\"\n",
        "data = pd.read_csv(url_capitals, delimiter='\\t', header=None, skiprows=1, names=['country1', 'city1', 'country2', 'city2'])\n",
        "print(\"Датасет столиць завантажено.\")\n",
        "\n",
        "# 5. Завантажуємо модель Word2Vec\n",
        "print(\"\\nКрок 4: Завантаження моделі Word2Vec...\")\n",
        "model_path = \"/content/ubercorpus.lowercased.lemmatized.word2vec.300d\"\n",
        "\n",
        "if os.path.exists(model_path):\n",
        "    try:\n",
        "        model = KeyedVectors.load_word2vec_format(\n",
        "            model_path,\n",
        "            binary=False,\n",
        "            limit=200000\n",
        "        )\n",
        "        print(\"Модель 'lowercased.lemmatized' успішно завантажена!\")\n",
        "    except Exception as e:\n",
        "        print(f\"Виникла помилка під час завантаження моделі: {e}\")\n",
        "        model = None\n",
        "else:\n",
        "    print(f\"ПОМИЛКА: Файл моделі не знайдено за шляхом '{model_path}'.\")\n",
        "    model = None\n",
        "\n",
        "# Фінальна перевірка\n",
        "if model is not None and morph is not None:\n",
        "    print(\"\\n-------------------------------------------\")\n",
        "    print(\"Успіх! Налаштування завершено. Можна продовжувати.\")\n",
        "    print(\"-------------------------------------------\")\n",
        "else:\n",
        "    print(\"\\n-------------------------------------------------------------\")\n",
        "    print(\"Помилка налаштування. Перевірте повідомлення вище.\")\n",
        "    print(\"-------------------------------------------------------------\")"
      ],
      "metadata": {
        "colab": {
          "base_uri": "https://localhost:8080/"
        },
        "id": "N_wV-CjWs7Ge",
        "outputId": "430098db-f344-44d1-b530-01d605fc763e"
      },
      "execution_count": 20,
      "outputs": [
        {
          "output_type": "stream",
          "name": "stdout",
          "text": [
            "Крок 1: Встановлення pymorphy3 та словників...\n",
            "Collecting pymorphy3\n",
            "  Downloading pymorphy3-2.0.4-py3-none-any.whl.metadata (2.4 kB)\n",
            "Collecting pymorphy3-dicts-uk\n",
            "  Downloading pymorphy3_dicts_uk-2.4.1.1.1663094765-py2.py3-none-any.whl.metadata (2.0 kB)\n",
            "Collecting dawg2-python>=0.8.0 (from pymorphy3)\n",
            "  Downloading dawg2_python-0.9.0-py3-none-any.whl.metadata (7.5 kB)\n",
            "Collecting pymorphy3-dicts-ru (from pymorphy3)\n",
            "  Downloading pymorphy3_dicts_ru-2.4.417150.4580142-py2.py3-none-any.whl.metadata (2.0 kB)\n",
            "Downloading pymorphy3-2.0.4-py3-none-any.whl (54 kB)\n",
            "\u001b[2K   \u001b[90m━━━━━━━━━━━━━━━━━━━━━━━━━━━━━━━━━━━━━━━━\u001b[0m \u001b[32m54.1/54.1 kB\u001b[0m \u001b[31m4.9 MB/s\u001b[0m eta \u001b[36m0:00:00\u001b[0m\n",
            "\u001b[?25hDownloading pymorphy3_dicts_uk-2.4.1.1.1663094765-py2.py3-none-any.whl (8.2 MB)\n",
            "\u001b[2K   \u001b[90m━━━━━━━━━━━━━━━━━━━━━━━━━━━━━━━━━━━━━━━━\u001b[0m \u001b[32m8.2/8.2 MB\u001b[0m \u001b[31m106.7 MB/s\u001b[0m eta \u001b[36m0:00:00\u001b[0m\n",
            "\u001b[?25hDownloading dawg2_python-0.9.0-py3-none-any.whl (9.3 kB)\n",
            "Downloading pymorphy3_dicts_ru-2.4.417150.4580142-py2.py3-none-any.whl (8.4 MB)\n",
            "\u001b[2K   \u001b[90m━━━━━━━━━━━━━━━━━━━━━━━━━━━━━━━━━━━━━━━━\u001b[0m \u001b[32m8.4/8.4 MB\u001b[0m \u001b[31m110.5 MB/s\u001b[0m eta \u001b[36m0:00:00\u001b[0m\n",
            "\u001b[?25hInstalling collected packages: pymorphy3-dicts-uk, pymorphy3-dicts-ru, dawg2-python, pymorphy3\n",
            "Successfully installed dawg2-python-0.9.0 pymorphy3-2.0.4 pymorphy3-dicts-ru-2.4.417150.4580142 pymorphy3-dicts-uk-2.4.1.1.1663094765\n",
            "\n",
            "Крок 2: Ініціалізація лематизатора...\n",
            "MorphAnalyzer (pymorphy3) успішно створено.\n",
            "\n",
            "Крок 3: Завантаження датасету столиць...\n",
            "Датасет столиць завантажено.\n",
            "\n",
            "Крок 4: Завантаження моделі Word2Vec...\n",
            "Модель 'lowercased.lemmatized' успішно завантажена!\n",
            "\n",
            "-------------------------------------------\n",
            "Успіх! Налаштування завершено. Можна продовжувати.\n",
            "-------------------------------------------\n"
          ]
        }
      ]
    },
    {
      "cell_type": "code",
      "source": [
        "import pandas as pd\n",
        "from gensim.models import KeyedVectors\n",
        "import pymorphy2\n",
        "\n",
        "# 1. Ініціалізуємо морфологічний аналізатор (тепер це має спрацювати)\n",
        "try:\n",
        "    morph = pymorphy2.MorphAnalyzer(lang='uk')\n",
        "    print(\"MorphAnalyzer успішно створено.\")\n",
        "except Exception as e:\n",
        "    print(f\"Сталася помилка при ініціалізації MorphAnalyzer: {e}\")\n",
        "\n",
        "\n",
        "# 2. Створюємо допоміжну функцію для обробки слів\n",
        "def preprocess_word(word, analyzer):\n",
        "    \"\"\"Приводить слово до леми в нижньому регістрі.\"\"\"\n",
        "    p = analyzer.parse(word)[0]\n",
        "    return p.normal_form.lower()\n",
        "\n",
        "# 3. Завантажуємо дані про столиці (без змін)\n",
        "url_capitals = \"https://raw.githubusercontent.com/lang-uk/vecs/refs/heads/master/test/test_vocabulary.txt\"\n",
        "data = pd.read_csv(url_capitals, delimiter='\\t', header=None, skiprows=1, names=['country1', 'city1', 'country2', 'city2'])\n",
        "print(\"Датасет столиць завантажено.\")\n",
        "\n",
        "# 4. Завантажуємо лематизовану модель\n",
        "try:\n",
        "    model_path = \"/content/ubercorpus.lowercased.lemmatized.word2vec.300d\"\n",
        "    model = KeyedVectors.load_word2vec_format(\n",
        "        model_path,\n",
        "        binary=False,\n",
        "        limit=200000  # Обмеження, щоб уникнути проблем з пам'яттю\n",
        "    )\n",
        "    print(\"Модель 'lowercased.lemmatized' успішно завантажена!\")\n",
        "except FileNotFoundError:\n",
        "    print(f\"Помилка: Файл моделі не знайдено за шляхом {model_path}\")\n",
        "    model = None\n",
        "except Exception as e:\n",
        "    print(f\"Виникла помилка при завантаженні моделі: {e}\")\n",
        "    model = None"
      ],
      "metadata": {
        "id": "gWcN8JI8Zb_9",
        "colab": {
          "base_uri": "https://localhost:8080/"
        },
        "outputId": "78d3c1aa-d4c6-4892-efdb-cc7512aeadc5"
      },
      "execution_count": 17,
      "outputs": [
        {
          "output_type": "stream",
          "name": "stdout",
          "text": [
            "Сталася помилка при ініціалізації MorphAnalyzer: module 'inspect' has no attribute 'getargspec'\n",
            "Датасет столиць завантажено.\n",
            "Модель 'lowercased.lemmatized' успішно завантажена!\n"
          ]
        }
      ]
    },
    {
      "cell_type": "code",
      "source": [
        "# Перевіряємо, чи модель та лематизатор були успішно завантажені\n",
        "if 'model' in locals() and model is not None and 'morph' in locals() and morph is not None:\n",
        "\n",
        "    # --- Визначення функцій ---\n",
        "\n",
        "    # Допоміжна функція для обробки слів\n",
        "    def preprocess_word(word, analyzer):\n",
        "        \"\"\"Приводить слово до леми в нижньому регістрі.\"\"\"\n",
        "        p = analyzer.parse(str(word))[0]\n",
        "        return p.normal_form.lower()\n",
        "\n",
        "    # Функція для обчислення косинусної подібності\n",
        "    def cosine_similarity(u, v):\n",
        "        \"\"\"Обчислює косинусну подібність між векторами u та v.\"\"\"\n",
        "        return np.dot(u, v) / (np.linalg.norm(u) * np.linalg.norm(v))\n",
        "\n",
        "    # Функція для пошуку аналогій\n",
        "    def get_country_lemmatized(city1, country1, city2, word_embeddings, analyzer):\n",
        "        city1_processed = preprocess_word(city1, analyzer)\n",
        "        country1_processed = preprocess_word(country1, analyzer)\n",
        "        city2_processed = preprocess_word(city2, analyzer)\n",
        "        group = {city1_processed, country1_processed, city2_processed}\n",
        "        for word in group:\n",
        "            if word not in word_embeddings:\n",
        "                return None, 0.0\n",
        "        emb_city1 = word_embeddings[city1_processed]\n",
        "        emb_country1 = word_embeddings[country1_processed]\n",
        "        emb_city2 = word_embeddings[city2_processed]\n",
        "        vec = emb_city2 - emb_city1 + emb_country1\n",
        "        similarity = -1\n",
        "        country = ''\n",
        "        for word in word_embeddings.index_to_key:\n",
        "            if word not in group:\n",
        "                word_emb = word_embeddings[word]\n",
        "                cur_similarity = cosine_similarity(vec, word_emb)\n",
        "                if cur_similarity > similarity:\n",
        "                    similarity = cur_similarity\n",
        "                    country = word\n",
        "        return country, similarity\n",
        "\n",
        "    # Функція для розрахунку точності (ВИПРАВЛЕНА ВЕРСІЯ)\n",
        "    def get_accuracy_lemmatized(word_embeddings, data, analyzer):\n",
        "        num_correct = 0\n",
        "        test_data = data.head(100)\n",
        "\n",
        "        print(f\"\\nПочинаємо розрахунок точності на {len(test_data)} прикладах...\")\n",
        "\n",
        "        for i, row in test_data.iterrows():\n",
        "            # --- ВИПРАВЛЕННЯ ТУТ ---\n",
        "            # Правильно отримуємо всі чотири значення з рядка\n",
        "            country1 = row['country1']\n",
        "            city1 = row['city1']\n",
        "            country2 = row['country2'] # Це правильна відповідь\n",
        "            city2 = row['city2']     # Це друге місто, яке ми передаємо у функцію\n",
        "\n",
        "            # Тепер змінна 'city2' існує, і помилки не буде\n",
        "            predicted_country_lemma, _ = get_country_lemmatized(city1, country1, city2, word_embeddings, analyzer)\n",
        "\n",
        "            if predicted_country_lemma is not None:\n",
        "                # Правильна відповідь - це 'country2'\n",
        "                correct_country2_lemma = preprocess_word(country2, analyzer)\n",
        "\n",
        "                if predicted_country_lemma == correct_country2_lemma:\n",
        "                    num_correct += 1\n",
        "\n",
        "        accuracy = num_correct / len(test_data)\n",
        "        return accuracy\n",
        "\n",
        "    # --- ЗАПУСК ОБЧИСЛЕНЬ ---\n",
        "\n",
        "    print(\"--- Тестування на одному прикладі ---\")\n",
        "    country, sim = get_country_lemmatized('Афіни', 'Греція', 'Київ', model, morph)\n",
        "    if country:\n",
        "        print(f\"Аналогія: Афіни -> Греція, Київ -> ?\")\n",
        "        print(f\"Результат: '{country}' (подібність: {sim:.4f})\")\n",
        "\n",
        "    # Запускаємо виправлену функцію розрахунку точності\n",
        "    accuracy = get_accuracy_lemmatized(model, data, morph)\n",
        "    print(\"\\n--- Розрахунок точності ---\")\n",
        "    print(f\"Точність на (перших 100) прикладах становить: {accuracy:.4f} ({accuracy:.2%})\")\n",
        "\n",
        "else:\n",
        "    print(\"\\nПомилка: схоже, модель або лематизатор не були завантажені. Будь ласка, виконайте попередню комірку ще раз.\")"
      ],
      "metadata": {
        "colab": {
          "base_uri": "https://localhost:8080/"
        },
        "id": "qFLsqLN-dKdw",
        "outputId": "8c5cecd2-0893-4734-cde1-e8152faca721"
      },
      "execution_count": 23,
      "outputs": [
        {
          "output_type": "stream",
          "name": "stdout",
          "text": [
            "--- Тестування на одному прикладі ---\n",
            "Аналогія: Афіни -> Греція, Київ -> ?\n",
            "Результат: 'варшава' (подібність: 0.5760)\n",
            "\n",
            "Починаємо розрахунок точності на 100 прикладах...\n",
            "\n",
            "--- Розрахунок точності ---\n",
            "Точність на (перших 100) прикладах становить: 0.2700 (27.00%)\n"
          ]
        }
      ]
    },
    {
      "cell_type": "code",
      "source": [
        "from sklearn.decomposition import PCA\n",
        "import matplotlib.pyplot as plt\n",
        "import numpy as np # Переконаємось, що numpy імпортовано\n",
        "\n",
        "# Перевіряємо, чи були завантажені модель та лематизатор\n",
        "if 'model' in locals() and model is not None and 'morph' in locals() and morph is not None:\n",
        "\n",
        "    # Функція для візуалізації векторів (ВИПРАВЛЕНА ВЕРСІЯ)\n",
        "    def visualize(words, word_embeddings, analyzer):\n",
        "        \"\"\"\n",
        "        Візуалізує вектори слів на 2D-площині за допомогою PCA.\n",
        "        \"\"\"\n",
        "        # Обробляємо кожне слово, щоб привести його до леми в нижньому регістрі\n",
        "        processed_words = [preprocess_word(w, analyzer) for w in words]\n",
        "\n",
        "        # --- ВИПРАВЛЕННЯ ТУТ ---\n",
        "        # Видалено помилкову позначку [cite] з цього рядка\n",
        "        valid_words_processed = [w for w in processed_words if w in word_embeddings.key_to_index]\n",
        "\n",
        "        if not valid_words_processed:\n",
        "            print(\"Жодне зі слів для візуалізації не знайдено в моделі.\")\n",
        "            return\n",
        "\n",
        "        # Створюємо масив векторів слів тільки для допустимих слів\n",
        "        word_vectors = np.array([word_embeddings[w] for w in valid_words_processed])\n",
        "\n",
        "        # Застосовуємо PCA для зменшення розмірності до 2\n",
        "        pca = PCA(n_components=2)\n",
        "        components = pca.fit_transform(word_vectors)\n",
        "\n",
        "        plt.figure(figsize=(12, 8))\n",
        "        # Будуємо точкову діаграму\n",
        "        plt.scatter(components[:, 0], components[:, 1])\n",
        "\n",
        "        # Додаємо підписи до точок\n",
        "        for i, word in enumerate(valid_words_processed):\n",
        "            plt.annotate(word, xy=(components[i, 0], components[i, 1]))\n",
        "\n",
        "        plt.title(\"Візуалізація векторів слів за допомогою PCA\")\n",
        "        plt.xlabel(\"Перша головна компонента\")\n",
        "        plt.ylabel(\"Друга головна компонента\")\n",
        "        plt.grid(True)\n",
        "        plt.show()\n",
        "\n",
        "    # --- ЗАПУСК ВІЗУАЛІЗАЦІЇ ---\n",
        "\n",
        "    # Список слів для візуалізації\n",
        "    words_to_visualize = [\"Україна\", \"Київ\", \"Польща\", \"Варшава\", \"Німеччина\", \"Берлін\", \"король\", \"жінка\", \"чоловік\", \"королева\"]\n",
        "    print(\"\\n--- Візуалізація векторів ---\")\n",
        "    visualize(words_to_visualize, model, morph)\n",
        "\n",
        "else:\n",
        "    print(\"\\nПомилка: не можу виконати візуалізацію, оскільки модель або лематизатор не були завантажені.\")"
      ],
      "metadata": {
        "colab": {
          "base_uri": "https://localhost:8080/",
          "height": 754
        },
        "id": "U1UaaNQGtRc3",
        "outputId": "81323092-a079-434f-b0da-34e1b70b386c"
      },
      "execution_count": 25,
      "outputs": [
        {
          "output_type": "stream",
          "name": "stdout",
          "text": [
            "\n",
            "--- Візуалізація векторів ---\n"
          ]
        },
        {
          "output_type": "display_data",
          "data": {
            "text/plain": [
              "<Figure size 1200x800 with 1 Axes>"
            ],
            "image/png": "[encoded data removed]"
          },
          "metadata": {}
        }
      ]
    },
    {
      "cell_type": "code",
      "source": [],
      "metadata": {
        "id": "KtqYGv5ruinr"
      },
      "execution_count": null,
      "outputs": []
    }
  ]
}